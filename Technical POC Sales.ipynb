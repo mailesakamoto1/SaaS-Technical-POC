{
 "cells": [
  {
   "cell_type": "markdown",
   "id": "0181bded",
   "metadata": {},
   "source": [
    "# Technical Proof of Concept - SaaS Summer 2024"
   ]
  },
  {
   "cell_type": "markdown",
   "id": "9a35efb7",
   "metadata": {},
   "source": [
    "Using a dataset from Kaggle, we have put together a technical proof of concept demonstrating functions that can be used to automatically update and manage inventory, even recommending re-ordering products utilizing data such as product ID, product name, quantity in stock, minimum stock threshold, reorder quantity, and quantity sold. "
   ]
  },
  {
   "cell_type": "markdown",
   "id": "c01174d2",
   "metadata": {},
   "source": [
    "# Importing & adjusting df "
   ]
  },
  {
   "cell_type": "code",
   "execution_count": null,
   "id": "deb1afaa",
   "metadata": {},
   "outputs": [],
   "source": [
    "import pandas as pd\n",
    "\n",
    "# loading dataset from kaggle & altering for relevant columns\n",
    "df = pd.read_csv('/Users/mailesakamoto/Desktop/dairy_dataset.csv')\n",
    "\n",
    "df = df[['Product ID', \n",
    "         'Product Name', \n",
    "         'Brand', \n",
    "         'Quantity in Stock (liters/kg)', \n",
    "         'Minimum Stock Threshold (liters/kg)', \n",
    "         'Reorder Quantity (liters/kg)', \n",
    "         'Quantity Sold (liters/kg)']]\n",
    "\n",
    "print(df.head())"
   ]
  },
  {
   "cell_type": "markdown",
   "id": "b9f966f4",
   "metadata": {},
   "source": [
    "# Inventory update function"
   ]
  },
  {
   "cell_type": "code",
   "execution_count": 3,
   "id": "7cfa2c6f",
   "metadata": {},
   "outputs": [],
   "source": [
    "def update_inventory(purchase_data, inventory_data):\n",
    "    for index, row in purchase_data.iterrows():\n",
    "        product_id = row['Product ID']\n",
    "        quantity_sold = row['Quantity Sold (liters/kg)']\n",
    "        \n",
    "        # stock update\n",
    "        inventory_data.loc[inventory_data['Product ID'] == product_id, 'Quantity in Stock (liters/kg)'] -= quantity_sold\n",
    "        \n",
    "    return inventory_data"
   ]
  },
  {
   "cell_type": "code",
   "execution_count": 4,
   "id": "c7ec9533",
   "metadata": {},
   "outputs": [
    {
     "name": "stdout",
     "output_type": "stream",
     "text": [
      "Updated Inventory:\n",
      "      Product ID Product Name                 Brand  \\\n",
      "0              5    Ice Cream           Dodla Dairy   \n",
      "1              1         Milk                  Amul   \n",
      "2              4       Yogurt           Dodla Dairy   \n",
      "3              3       Cheese  Britannia Industries   \n",
      "4              8   Buttermilk          Mother Dairy   \n",
      "...          ...          ...                   ...   \n",
      "4320           6         Curd          Mother Dairy   \n",
      "4321           4       Yogurt          Palle2patnam   \n",
      "4322           6         Curd          Mother Dairy   \n",
      "4323           6         Curd                   Raj   \n",
      "4324           1         Milk          Mother Dairy   \n",
      "\n",
      "      Quantity in Stock (liters/kg)  Minimum Stock Threshold (liters/kg)  \\\n",
      "0                               215                                19.55   \n",
      "1                                79                                43.17   \n",
      "2                               247                                15.10   \n",
      "3                               222                                74.50   \n",
      "4                                 2                                76.02   \n",
      "...                             ...                                  ...   \n",
      "4320                            202                                98.07   \n",
      "4321                            750                                87.41   \n",
      "4322                            442                                33.47   \n",
      "4323                              1                                58.25   \n",
      "4324                            353                                22.34   \n",
      "\n",
      "      Reorder Quantity (liters/kg)  Quantity Sold (liters/kg)  \n",
      "0                            64.03                          7  \n",
      "1                           181.10                        558  \n",
      "2                           140.83                        256  \n",
      "3                            57.68                        601  \n",
      "4                            33.40                        145  \n",
      "...                            ...                        ...  \n",
      "4320                         33.53                        352  \n",
      "4321                        114.37                         68  \n",
      "4322                        153.66                        141  \n",
      "4323                        160.84                          2  \n",
      "4324                        189.63                        417  \n",
      "\n",
      "[4325 rows x 7 columns]\n"
     ]
    }
   ],
   "source": [
    "# example usage with synthetic purchase data \n",
    "purchase_data = pd.DataFrame({\n",
    "    'Product ID': [1, 2],\n",
    "    'Quantity Sold (liters/kg)': [50, 75]\n",
    "})\n",
    "\n",
    "# updated inventory based on purchase data, likely stored in a separate df\n",
    "updated_inventory = update_inventory(purchase_data, df)\n",
    "\n",
    "# printing updated inventory\n",
    "print(\"Updated Inventory:\")\n",
    "print(updated_inventory)"
   ]
  },
  {
   "cell_type": "markdown",
   "id": "228d9158",
   "metadata": {},
   "source": [
    "# Reorder function"
   ]
  },
  {
   "cell_type": "code",
   "execution_count": 5,
   "id": "711d69cc",
   "metadata": {},
   "outputs": [],
   "source": [
    "def recommend_reorder(inventory_data):\n",
    "    products_to_reorder = inventory_data[inventory_data['Quantity in Stock (liters/kg)'] < inventory_data['Minimum Stock Threshold (liters/kg)']]\n",
    "    reorder_quantities = products_to_reorder[['Product ID', 'Reorder Quantity (liters/kg)']]\n",
    "    \n",
    "    return reorder_quantities"
   ]
  },
  {
   "cell_type": "code",
   "execution_count": 6,
   "id": "66c188ee",
   "metadata": {},
   "outputs": [
    {
     "name": "stdout",
     "output_type": "stream",
     "text": [
      "      Product ID  Reorder Quantity (liters/kg)\n",
      "4              8                         33.40\n",
      "10             4                        118.57\n",
      "12             3                         69.19\n",
      "15             1                         28.11\n",
      "25             9                         70.40\n",
      "...          ...                           ...\n",
      "4307           7                        101.37\n",
      "4310           1                        151.09\n",
      "4316           8                         54.45\n",
      "4317           8                         39.60\n",
      "4323           6                        160.84\n",
      "\n",
      "[1057 rows x 2 columns]\n"
     ]
    }
   ],
   "source": [
    "# example usage \n",
    "\n",
    "products_to_reorder = recommend_reorder(df)\n",
    "print(products_to_reorder)"
   ]
  }
 ],
 "metadata": {
  "kernelspec": {
   "display_name": "Python 3 (ipykernel)",
   "language": "python",
   "name": "python3"
  },
  "language_info": {
   "codemirror_mode": {
    "name": "ipython",
    "version": 3
   },
   "file_extension": ".py",
   "mimetype": "text/x-python",
   "name": "python",
   "nbconvert_exporter": "python",
   "pygments_lexer": "ipython3",
   "version": "3.11.5"
  }
 },
 "nbformat": 4,
 "nbformat_minor": 5
}
